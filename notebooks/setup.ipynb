{
 "cells": [
  {
   "cell_type": "markdown",
   "metadata": {},
   "source": [
    "This directory is a scratch space running on my Raspberry Pi. This notebook describes how it's set up and can be used:\n",
    "\n",
    "```bash\n",
    "cd /home/pi/\n",
    "mkdir scratch\n",
    "python3 -m virtualenv scratch --python=python3.7\n",
    "cd scratch\n",
    "source activate bin/python\n",
    "pip install jupyter\n",
    "jupyter notebook --ip PI_IP_ADDRESS --port 8888\n",
    "```\n",
    "\n",
    "Then on my machine navigate to `https://PI_IP_ADDRESS:8888` and you're there."
   ]
  }
 ],
 "metadata": {
  "kernelspec": {
   "display_name": "Python 3",
   "language": "python",
   "name": "python3"
  },
  "language_info": {
   "codemirror_mode": {
    "name": "ipython",
    "version": 3
   },
   "file_extension": ".py",
   "mimetype": "text/x-python",
   "name": "python",
   "nbconvert_exporter": "python",
   "pygments_lexer": "ipython3",
   "version": "3.7.3"
  }
 },
 "nbformat": 4,
 "nbformat_minor": 2
}
