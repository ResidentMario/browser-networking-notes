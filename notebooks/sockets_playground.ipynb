{
 "cells": [
  {
   "cell_type": "code",
   "execution_count": 1,
   "metadata": {},
   "outputs": [],
   "source": [
    "import socket"
   ]
  },
  {
   "cell_type": "code",
   "execution_count": 13,
   "metadata": {},
   "outputs": [
    {
     "name": "stdout",
     "output_type": "stream",
     "text": [
      "Connected by ('192.168.1.6', 65433)\n"
     ]
    }
   ],
   "source": [
    "# socket listeners are constructed for a particular host and specific port number.\n",
    "HOST = '127.0.0.1'\n",
    "PORT = 65432\n",
    "\n",
    "# the actual socket is initialized using a context manager, which handles closing the\n",
    "# socket at exit time.\n",
    "with socket.socket(\n",
    "    # AF_INET is the IPv4 socket address family. socket.AF_INET6 is the IPv6 socket address family.\n",
    "    # A socket address family is a communications protocol for the socket. Linux supports a bunch of\n",
    "    # different communication protocols in addition to IPv4 and IPv6 using sockets.\n",
    "    socket.AF_INET,\n",
    "    # The second parameter is the socket type, and it controls the transport layer. SOCK_STREAM\n",
    "    # is for reliable, well-ordered communication - TCP. SOCK_DGRAM is for unreliable, unordered\n",
    "    # communication - UDP.\n",
    "    socket.SOCK_STREAM\n",
    ") as s:\n",
    "    # Bind binds the socket listener to the socket.\n",
    "    s.bind(\n",
    "        # HOST is the IP address to listen to connections on. If you set this to 127.0.0.1, the loopback\n",
    "        # address, only packets emitted by this machine will be directed to this socket. If you set this\n",
    "        # to '0.0.0.0', this port will be bound to *all* IP addresses. If you set this to\n",
    "        # a specific real IP address, network traffic to that address will go to this socket.\n",
    "        ('192.168.1.6',\n",
    "        # PORT is the port number. Numbers below 1024 are reserved, and require superuser permissions to\n",
    "        # take over. The two most important reserved ports are 80 and 443.\n",
    "         65432)\n",
    "    )\n",
    "    # listen makes this a \"listening socket\". The only parameter this method has is a configurable value\n",
    "    # for setting the maximum number of connection requests to enqueue. The precise value is OS-dependent.\n",
    "    s.listen()\n",
    "    # accept is a blocking task which does nothing until a request comes in or is poppable off the queue.\n",
    "    # connect returns a connected socket -- a socket which is actively able to communicate with the client\n",
    "    # that connected to it. The second component, addr, is the address of the connecting client.\n",
    "    conn, addr = s.accept()\n",
    "    with conn:\n",
    "        print('Connected by', addr)\n",
    "        # Here we use a busy loop to manage the connection.\n",
    "        while True:\n",
    "            # recv is the function for reading out bytes from the data payload\n",
    "            data = conn.recv(1024)\n",
    "            # we break the connection (and hence, close the socket) if we recieve no data\n",
    "            if not data:\n",
    "                break\n",
    "            # the data we get we send back\n",
    "            conn.sendall(data)"
   ]
  },
  {
   "cell_type": "markdown",
   "metadata": {},
   "source": [
    "Here is the code for the client, copied from `~/scratch/scripts/client.py`. Run this in a separate process after running the code block above, and see what happens:"
   ]
  },
  {
   "cell_type": "code",
   "execution_count": null,
   "metadata": {},
   "outputs": [],
   "source": [
    "import socket\n",
    "\n",
    "HOST = '192.168.1.6'\n",
    "PORT = 65432\n",
    "\n",
    "with socket.socket(socket.AF_INET, socket.SOCK_STREAM) as s:\n",
    "    # If you don't intend to listen with a socket, only to send and recieve data to another socket,\n",
    "    # it's not necessary to actually bind it, as Python will pick an unoccupied port number for you\n",
    "    # automatically. So technically this following line of code can be omitted.\n",
    "    s.bind((HOST, 65433))\n",
    "    s.connect((HOST, PORT))\n",
    "    s.sendall(b'Hello, world')\n",
    "    data = s.recv(1024)\n",
    "\n",
    "print('Received', repr(data))"
   ]
  }
 ],
 "metadata": {
  "kernelspec": {
   "display_name": "Python 3",
   "language": "python",
   "name": "python3"
  },
  "language_info": {
   "codemirror_mode": {
    "name": "ipython",
    "version": 3
   },
   "file_extension": ".py",
   "mimetype": "text/x-python",
   "name": "python",
   "nbconvert_exporter": "python",
   "pygments_lexer": "ipython3",
   "version": "3.7.3"
  }
 },
 "nbformat": 4,
 "nbformat_minor": 2
}
